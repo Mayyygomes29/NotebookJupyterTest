{
 "cells": [
  {
   "cell_type": "markdown",
   "id": "ead4f056",
   "metadata": {},
   "source": [
    "# Data Science Tools and Ecosystem"
   ]
  },
  {
   "cell_type": "markdown",
   "id": "f3238f6c",
   "metadata": {},
   "source": [
    "##### Neste notebook, as Ferramentas e Ecossistema de Ciência de Dados são resumidos."
   ]
  },
  {
   "cell_type": "markdown",
   "id": "adfe0208",
   "metadata": {},
   "source": [
    "**Objetivos**: \n"
   ]
  },
  {
   "cell_type": "markdown",
   "id": "a6a4ca8a",
   "metadata": {},
   "source": [
    "* Listar linguagens populares para Ciência de Dados\n",
    "* Listar Bibliotecas para ciência de dados\n",
    "* Listar ferramentas para ciência de dados\n",
    "* Exemplos de expressões aritméticas"
   ]
  },
  {
   "cell_type": "markdown",
   "id": "19853f25",
   "metadata": {},
   "source": [
    " Algumas das linguagens populares que os Cientistas de Dados usam são:"
   ]
  },
  {
   "cell_type": "markdown",
   "id": "f3106db4",
   "metadata": {},
   "source": [
    "1. R\n",
    "2. Python\n",
    "3. SQL\n"
   ]
  },
  {
   "cell_type": "markdown",
   "id": "ea4ee72e",
   "metadata": {},
   "source": [
    "Algumas das bibliotecas comumente usadas por Cientistas de Dados incluem:"
   ]
  },
  {
   "cell_type": "markdown",
   "id": "9e3953dd",
   "metadata": {},
   "source": [
    "1. Pandas \n",
    "2. Numpy\n",
    "3. Matplotlib\n"
   ]
  },
  {
   "cell_type": "markdown",
   "id": "8d84073c",
   "metadata": {},
   "source": [
    "|Ferramentas de Ciência de Dados|\n",
    "|-------------------------------|\n",
    "|Hadoop|\n",
    "|Apache SparkSQL|\n",
    "|Apache AirFlow|"
   ]
  },
  {
   "cell_type": "markdown",
   "id": "c5ca108d",
   "metadata": {},
   "source": [
    "### Abaixo estão alguns exemplos de avaliação de expressões aritméticas em Python"
   ]
  },
  {
   "cell_type": "code",
   "execution_count": 11,
   "id": "19c05730",
   "metadata": {},
   "outputs": [
    {
     "name": "stdout",
     "output_type": "stream",
     "text": [
      "17\n"
     ]
    }
   ],
   "source": [
    "#Esta é uma expressão aritmética simples para multiplicar e depois adicionar inteiros\n",
    "\n",
    "expressao = (3*4)+5\n",
    "print(expressao)\n",
    "\n"
   ]
  },
  {
   "cell_type": "code",
   "execution_count": 12,
   "id": "7bc04136",
   "metadata": {},
   "outputs": [
    {
     "name": "stdout",
     "output_type": "stream",
     "text": [
      "3.3333333333333335\n"
     ]
    }
   ],
   "source": [
    "# Isso converterá 200 minutos em horas dividindo por 60\n",
    "\n",
    "hora = 200/60\n",
    "print (hora)"
   ]
  },
  {
   "cell_type": "markdown",
   "id": "d4d4d822",
   "metadata": {},
   "source": [
    "## AUTOR: \n"
   ]
  },
  {
   "cell_type": "markdown",
   "id": "b850059f",
   "metadata": {},
   "source": [
    "Mayara Gomes Silva"
   ]
  }
 ],
 "metadata": {
  "kernelspec": {
   "display_name": "Python 3",
   "language": "python",
   "name": "python3"
  },
  "language_info": {
   "codemirror_mode": {
    "name": "ipython",
    "version": 3
   },
   "file_extension": ".py",
   "mimetype": "text/x-python",
   "name": "python",
   "nbconvert_exporter": "python",
   "pygments_lexer": "ipython3",
   "version": "3.12.3"
  }
 },
 "nbformat": 4,
 "nbformat_minor": 5
}
